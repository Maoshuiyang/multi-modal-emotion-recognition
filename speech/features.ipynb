{
 "cells": [
  {
   "cell_type": "code",
   "execution_count": 1,
   "metadata": {
    "collapsed": true
   },
   "outputs": [],
   "source": [
    "from python_speech_features import mfcc\n",
    "import scipy.io.wavfile as wav\n",
    "import os\n",
    "import pickle\n",
    "import matplotlib.pyplot as plt\n",
    "import numpy as np\n",
    "from sklearn.mixture import GaussianMixture\n",
    "from sklearn.model_selection import train_test_split\n",
    "import time\n",
    "import librosa"
   ]
  },
  {
   "cell_type": "code",
   "execution_count": 1,
   "metadata": {
    "collapsed": true
   },
   "outputs": [],
   "source": [
    "class speech_feat_extract():\n",
    "    \n",
    "    def __init__(sessions, datapath, categories = ['ang', 'exc', 'neu', 'sad']):\n",
    "        self.sessions = sessions\n",
    "        self.datapath = datapath\n",
    "        \n",
    "        self.category_list = categories\n",
    "        self.mfcc = {}\n",
    "        self.zcr = {}\n",
    "        self.pitch = {}\n",
    "        self.mfcc_stat = {}\n",
    "        self.zcr_stat = {}\n",
    "        self.pitch_stat = {}\n",
    "        \n",
    "        self.id2label = {}\n",
    "        self.label2ids = {}\n",
    "        def parse_groundtruth(fpath):\n",
    "            id2label = {}\n",
    "            label2ids = {}\n",
    "            for line in fpath:\n",
    "                if line.startswith('['):\n",
    "                    words = line.rstrip().split('\\t')\n",
    "                    id2label[words[1]] = words[2]\n",
    "                    if label2ids.has_key(words[2]):\n",
    "                        label2ids[words[2]].append(words[1])\n",
    "                    else:\n",
    "                        label2ids[words[2]] = words[1]\n",
    "            return id2label, label2ids\n",
    "        \n",
    "        for session in sessions:\n",
    "            for subdir, dirs, files in os.walk(datapath + session + '/dialog/EmoEvaluation/all'):\n",
    "                for f in files:\n",
    "                    fpath = subdir + os.sep + f\n",
    "                    if fpath.endswith('.txt'):\n",
    "                        self.id2label, self.label2ids = parse_groundtruth(fpath)\n",
    "                        \n",
    "        self.label2catid = {}\n",
    "        for i in range(len(categories)):\n",
    "            self.label2catid[categories[i]] = i+1\n",
    "            \n",
    "        self.wavpaths = self.filepath_helper('/sentences/wav', '.wav')\n",
    "            \n",
    "    def filepath_helper(relpath, filetype):\n",
    "        filepaths = []\n",
    "        for session in self.sessions:\n",
    "            for subdir, dirs, files in os.walk(self.datapath + session + relpath):\n",
    "                for f in files:\n",
    "                    if f.endswith(filetype):\n",
    "                        filepaths.append([subdir + os.sep + f, f[:-4]])\n",
    "        return filepaths\n",
    "                        \n",
    "        \n",
    "    def compute_mfcc():\n",
    "        wavpath = '/sentences/wav/'\n",
    "        filepaths = self.wavpaths\n",
    "        print 'Computing MFCC for ' + str(len(filepaths)) + ' utterances'\n",
    "        for f in filepaths:\n",
    "            (rate,sig) = wav.read(f[0])\n",
    "            self.mfcc[f[1]] = mfcc(sig,rate)\n",
    "        \n",
    "    def compute_zcr():\n",
    "        filepaths = self.wavpaths\n",
    "        for f in filepaths:\n",
    "            sig, sr = librosa.load(f[0])\n",
    "            zcr_feat[f[1]] = librosa.feature.zero_crossing_rate(sig)[0]\n",
    "        \n",
    "    def compute_pitch():\n",
    "        filepaths = self.wavpaths\n",
    "        for f in filepaths:\n",
    "            subprocess.call(['/usr/bin/praat', '--run', 'extract_pitch.praat', f[0]])\n",
    "            pitch = {}\n",
    "            with open('temp.pitch') as fil:\n",
    "                for i in fil:\n",
    "                    val = i.split()\n",
    "                    if val[1] != '--undefined--' and val[0] != 'Pitch':\n",
    "                        pitch[float(val[0])] = float(val[1])\n",
    "            self.pitch[f[1]] = pitch\n",
    "        \n",
    "    def compute_stat(feat):\n",
    "        if feat == 'mfcc':\n",
    "            X = self.mfcc\n",
    "        elif feat == 'zcr':\n",
    "            X = self.zcr\n",
    "        \n",
    "        X_mean = np.empty((0,13), float)\n",
    "        X_var = np.empty((0,13), float)\n",
    "        for k,v in X_feat.items():\n",
    "            if self.id2label[k] in self.categories:\n",
    "                A = np.mean(v, axis=0)\n",
    "                X_mean = np.concatenate((X_mean, np.reshape(A, (-1, A.shape[0]))), axis=0)\n",
    "                A = np.var(v, axis=0)\n",
    "                X_var = np.concatenate((X_var, np.reshape(A, (-1, A.shape[0]))), axis=0)\n",
    "                \n",
    "        if feat == 'mfcc':\n",
    "            self.mfcc_stat = list(np.concatenate((X_mean, X_var), axis = 1))\n",
    "        elif feat == 'zcr':\n",
    "            self.zcr_stat = list(np.concatenate((X_mean, X_var), axis=1))"
   ]
  },
  {
   "cell_type": "code",
   "execution_count": null,
   "metadata": {
    "collapsed": true
   },
   "outputs": [],
   "source": []
  },
  {
   "cell_type": "code",
   "execution_count": 3,
   "metadata": {},
   "outputs": [
    {
     "data": {
      "image/png": "[encoded data removed]",
      "text/plain": [
       "<matplotlib.figure.Figure at 0x7fe24882ab50>"
      ]
     },
     "metadata": {},
     "output_type": "display_data"
    }
   ],
   "source": [
    "# analyzing the class distributions\n",
    "with open('label2file.pkl') as f:\n",
    "    label2file = pickle.load(f)\n",
    "\n",
    "y = [len(v) for k,v in label2file.items()]\n",
    "x = [k for k,v in label2file.items()]\n",
    "\n",
    "plt.bar(x,y)\n",
    "for i,v in enumerate(x):\n",
    "    plt.text(v, y[i]+0.25, str(y[i]))\n",
    "plt.show()"
   ]
  },
  {
   "cell_type": "code",
   "execution_count": null,
   "metadata": {
    "collapsed": true
   },
   "outputs": [],
   "source": []
  },
  {
   "cell_type": "code",
   "execution_count": 29,
   "metadata": {},
   "outputs": [
    {
     "name": "stdout",
     "output_type": "stream",
     "text": [
      "0.34602648191673946\n"
     ]
    }
   ],
   "source": [
    "from sklearn import svm\n",
    "from sklearn.model_selection import KFold\n",
    "from sklearn.metrics import accuracy_score\n",
    "\n",
    "kf = KFold(n_splits=5)\n",
    "acc = []\n",
    "for train_index, test_index in kf.split(X):\n",
    "    tr_x, te_x = X[train_index], X[test_index]\n",
    "    tr_y, te_y = y[train_index], y[test_index]\n",
    "    clf = svm.SVC()\n",
    "    clf.fit(tr_x, tr_y)\n",
    "    pred = clf.predict(te_x)\n",
    "    acc.append(accuracy_score(te_y, pred))\n",
    "\n",
    "print sum(acc)/float(len(acc))"
   ]
  },
  {
   "cell_type": "code",
   "execution_count": null,
   "metadata": {
    "collapsed": true
   },
   "outputs": [],
   "source": []
  }
 ],
 "metadata": {
  "kernelspec": {
   "display_name": "Python 2",
   "language": "python",
   "name": "python2"
  },
  "language_info": {
   "codemirror_mode": {
    "name": "ipython",
    "version": 2
   },
   "file_extension": ".py",
   "mimetype": "text/x-python",
   "name": "python",
   "nbconvert_exporter": "python",
   "pygments_lexer": "ipython2",
   "version": "2.7.14"
  }
 },
 "nbformat": 4,
 "nbformat_minor": 2
}
