{
 "cells": [
  {
   "cell_type": "code",
   "execution_count": 18,
   "metadata": {},
   "outputs": [
    {
     "name": "stdout",
     "output_type": "stream",
     "text": [
      "4936\n"
     ]
    }
   ],
   "source": [
    "from sklearn import svm\n",
    "from sklearn.model_selection import KFold\n",
    "from sklearn.metrics import accuracy_score\n",
    "from features import speech_feat_extract\n",
    "import numpy as np\n",
    "import pickle\n",
    "\n",
    "sess = ['Session'+str(i+1) for i in range(5)]\n",
    "\n",
    "folderpath = '../../../../../Other/IEMOCAP_full_release/' # specify the path to dataset\n",
    "data = speech_feat_extract(sess, folderpath)"
   ]
  },
  {
   "cell_type": "code",
   "execution_count": 13,
   "metadata": {},
   "outputs": [
    {
     "name": "stdout",
     "output_type": "stream",
     "text": [
      "0.3866396761133603\n",
      "0.37031408308004055\n",
      "[[ 22   0 139   0]\n",
      " [ 31   0 227   0]\n",
      " [  9   0 354   2]\n",
      " [ 13   0 185   6]]\n"
     ]
    }
   ],
   "source": [
    "from keras.models import Model\n",
    "from keras.layers import Input, LSTM, Dense, Activation\n",
    "import numpy as np\n",
    "import pickle\n",
    "\n",
    "# replace the features with the required features file\n",
    "#with open('utterance_feat/AE_feat_lpcc_80_256.pkl') as f:\n",
    "#    X = pickle.load(f)\n",
    "#tr_x = X['feat']['train']\n",
    "#te_x = X['feat']['test']\n",
    "#tr_y = X['cat']['train']\n",
    "#te_y = X['cat']['test']\n",
    "\n",
    "# use it only for voice quality features\n",
    "with open('feat/80_20/voiceQuality.pkl') as f:\n",
    "    X = pickle.load(f)\n",
    "tr_x = np.concatenate((tr_x, X['feat']['train']), axis=1)\n",
    "te_x = np.concatenate((te_x, X['feat']['test']), axis=1)\n",
    "\n",
    "# make fusion_nn True if you want to concatenate any features\n",
    "fusion_nn = False\n",
    "if fusion_nn:\n",
    "    from sklearn.preprocessing import label_binarize\n",
    "    tr_yc = label_binarize(tr_y, list(set([i for i in tr_y])))\n",
    "    te_yc = label_binarize(te_y, list(set([i for i in te_y])))\n",
    "    nn_comb = nn_feat_fusion(tr_x.shape[1])\n",
    "    print nn_comb.train(tr_x, tr_yc)\n",
    "    tr_x = nn_comb.feature(tr_x)\n",
    "    te_x = nn_comb.feature(te_x)\n",
    "    with open('combined_256_mfcc_VQ_lpcc.pkl', 'wb') as f:\n",
    "        pickle.dump({'feat':{'train':tr_x, 'test':te_x}, 'cat':{'train':tr_y, 'test':te_y}}, f)\n",
    "\n",
    "clf = svm.SVC(kernel='poly', random_state=1)\n",
    "clf.fit(tr_x, tr_y)\n",
    "pred = clf.predict(te_x)\n",
    "pred_train = clf.predict(tr_x)\n",
    "print accuracy_score(te_y, pred)\n",
    "print accuracy_score(tr_y, pred_train)\n",
    "\n",
    "from sklearn.metrics import confusion_matrix\n",
    "cnf = confusion_matrix(te_y, pred)\n",
    "print cnf"
   ]
  },
  {
   "cell_type": "code",
   "execution_count": null,
   "metadata": {
    "collapsed": true
   },
   "outputs": [],
   "source": [
    "# make the flag True in case labels are categorical, used in older version\n",
    "check = False\n",
    "if check:\n",
    "    tr_y = []\n",
    "    te_y = []\n",
    "    for i in list(X['cat']['train']):\n",
    "        if tuple(i) == (1,0,0,0):\n",
    "            tr_y.append(1)\n",
    "        if tuple(i) == (0,1,0,0):\n",
    "            tr_y.append(2)\n",
    "        if tuple(i) == (0,0,1,0):\n",
    "            tr_y.append(3)\n",
    "        if tuple(i) == (0,0,0,1):\n",
    "            tr_y.append(4)\n",
    "    for i in list(X['cat']['test']):\n",
    "        if tuple(i) == (1,0,0,0):\n",
    "            te_y.append(1)\n",
    "        if tuple(i) == (0,1,0,0):\n",
    "            te_y.append(2)\n",
    "        if tuple(i) == (0,0,1,0):\n",
    "            te_y.append(3)\n",
    "        if tuple(i) == (0,0,0,1):\n",
    "            te_y.append(4)\n",
    "    tr_yc = np.array(tr_y)\n",
    "    te_yc = np.array(te_y)"
   ]
  }
 ],
 "metadata": {
  "kernelspec": {
   "display_name": "Python 2",
   "language": "python",
   "name": "python2"
  },
  "language_info": {
   "codemirror_mode": {
    "name": "ipython",
    "version": 2
   },
   "file_extension": ".py",
   "mimetype": "text/x-python",
   "name": "python",
   "nbconvert_exporter": "python",
   "pygments_lexer": "ipython2",
   "version": "2.7.14"
  }
 },
 "nbformat": 4,
 "nbformat_minor": 2
}
