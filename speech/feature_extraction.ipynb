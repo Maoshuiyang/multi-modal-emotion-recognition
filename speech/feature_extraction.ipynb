{
 "cells": [
  {
   "cell_type": "code",
   "execution_count": null,
   "metadata": {
    "collapsed": true
   },
   "outputs": [],
   "source": [
    "from python_speech_features import mfcc\n",
    "import scipy.io.wavfile as wav\n",
    "import os\n",
    "import pickle\n",
    "import matplotlib.pyplot as plt\n",
    "import numpy as np\n",
    "from sklearn.mixture import GaussianMixture\n",
    "from sklearn.model_selection import train_test_split\n",
    "import time"
   ]
  },
  {
   "cell_type": "code",
   "execution_count": null,
   "metadata": {
    "collapsed": true
   },
   "outputs": [],
   "source": [
    "# collect label dict, filename -> category and category -> list of filenames\n",
    "cat_labels = {}\n",
    "label2file = {}\n",
    "for sess in ['Session1', 'Session2', 'Session3', 'Session4', 'Session5']:\n",
    "    for subdir, dirs, files in os.walk('../../../../HBA/IEMOCAP_full_release/' + sess + '/dialog/EmoEvaluation/all/'):\n",
    "        for fil in files:\n",
    "            filepath = subdir + os.sep + fil\n",
    "            if filepath.endswith('.txt'):\n",
    "                with open(filepath) as f:\n",
    "                    for i in f:\n",
    "                        if i.startswith('['):\n",
    "                            ph = i.rstrip().split('\\t')\n",
    "                            cat_labels[ph[1]] = ph[2]\n",
    "                            if label2file.has_key(ph[2]):\n",
    "                                label2file[ph[2]].append(ph[1])\n",
    "                            else:\n",
    "                                label2file[ph[2]] = [ph[1]]\n",
    "    \n",
    "print len(cat_labels.keys())\n",
    "with open('cat_labels.pkl', 'wb') as f:\n",
    "    pickle.dump(cat_labels, f)\n",
    "with open('label2file.pkl', 'wb') as f:\n",
    "    pickle.dump(label2file, f)"
   ]
  },
  {
   "cell_type": "code",
   "execution_count": null,
   "metadata": {
    "collapsed": true
   },
   "outputs": [],
   "source": [
    "# analyzing the class distributions\n",
    "with open('label2file.pkl') as f:\n",
    "    label2file = pickle.load(f)\n",
    "\n",
    "y = [len(v) for k,v in label2file.items()]\n",
    "x = [k for k,v in label2file.items()]\n",
    "\n",
    "plt.bar(x,y)\n",
    "for i,v in enumerate(x):\n",
    "    plt.text(v, y[i]+0.25, str(y[i]))\n",
    "plt.show()"
   ]
  },
  {
   "cell_type": "code",
   "execution_count": null,
   "metadata": {
    "collapsed": true
   },
   "outputs": [],
   "source": [
    "# extract mfcc features for all the sentences / utterances\n",
    "mfcc_feat = {}\n",
    "uttno = 1\n",
    "for sess in ['Session1', 'Session2', 'Session3', 'Session4', 'Session5']:\n",
    "    for subdir, dirs, files in os.walk('../../../../HBA/IEMOCAP_full_release/' + sess + '/sentences/wav/'):\n",
    "        for fil in files:\n",
    "            filepath = subdir + os.sep + fil\n",
    "            if filepath.endswith('.wav'):\n",
    "                (rate,sig) = wav.read(filepath)\n",
    "                mfcc_feat[fil] = mfcc(sig,rate)\n",
    "                uttno += 1\n",
    "with open('feat/mfcc.pkl', 'wb') as f:\n",
    "    pickle.dump(mfcc_feat, f)"
   ]
  },
  {
   "cell_type": "code",
   "execution_count": null,
   "metadata": {
    "collapsed": true
   },
   "outputs": [],
   "source": [
    "# extracting stats as feature for each utterance\n",
    "#k2num = {'ang':1, 'exc':2, 'fru':3, 'hap':4, 'neu':5, 'sad':6}\n",
    "k2num = {'ang':1, 'exc':2, 'neu':3, 'sad':4}\n",
    "\n",
    "X_mean = np.empty((0,13), float)\n",
    "X_var = np.empty((0,13), float)\n",
    "y = []\n",
    "i = 0\n",
    "for k,v in mfcc_feat.items():\n",
    "    if i % 1000 == 0:\n",
    "        print i\n",
    "    if cat_labels[k[:-4]] in k2num.keys():\n",
    "        A = np.mean(v, axis=0)\n",
    "        X_mean = np.concatenate((X_mean, np.reshape(A, (-1, A.shape[0]))), axis=0)\n",
    "        A = np.var(v, axis=0)\n",
    "        X_var = np.concatenate((X_var, np.reshape(A, (-1, A.shape[0]))), axis=0)\n",
    "        y.append(k2num[cat_labels[k[:-4]]])\n",
    "    i += 1\n",
    "\n",
    "print X_mean.shape\n",
    "y = np.array(y)\n",
    "\n",
    "X = np.concatenate((X_mean, X_var), axis=1)\n",
    "y = np.reshape(y, (-1, 1))\n",
    "print X.shape\n",
    "print y.shape"
   ]
  },
  {
   "cell_type": "code",
   "execution_count": null,
   "metadata": {
    "collapsed": true
   },
   "outputs": [],
   "source": [
    "from sklearn import svm\n",
    "from sklearn.model_selection import KFold\n",
    "from sklearn.metrics import accuracy_score\n",
    "\n",
    "kf = KFold(n_splits=5)\n",
    "acc = []\n",
    "for train_index, test_index in kf.split(X):\n",
    "    tr_x, te_x = X[train_index], X[test_index]\n",
    "    tr_y, te_y = y[train_index], y[test_index]\n",
    "    clf = svm.SVC()\n",
    "    clf.fit(tr_x, tr_y)\n",
    "    pred = clf.predict(te_x)\n",
    "    acc.append(accuracy_score(te_y, pred))\n",
    "\n",
    "print sum(acc)/float(len(acc))"
   ]
  },
  {
   "cell_type": "code",
   "execution_count": null,
   "metadata": {
    "collapsed": true
   },
   "outputs": [],
   "source": [
    "# extracting zcr \n",
    "#def zcr():\n",
    "#    import librosa\n",
    "#    y, sr = librosa.load('../../../../HBA/IEMOCAP_full_release/Session1/sentences/wav/Ses01F_impro01/Ses01F_impro01_F000.wav')\n",
    "#    print len(y)\n",
    "#    return librosa.feature.zero_crossing_rate(y)\n",
    "\n",
    "#print zcr().shape\n",
    "\n",
    "import librosa\n",
    "zcr_feat = {}\n",
    "uttno = 1\n",
    "for sess in ['Session1', 'Session2', 'Session3', 'Session4', 'Session5']:\n",
    "    for subdir, dirs, files in os.walk('../../../../HBA/IEMOCAP_full_release/' + sess + '/sentences/wav/'):\n",
    "        for fil in files:\n",
    "            filepath = subdir + os.sep + fil\n",
    "            if filepath.endswith('.wav'):\n",
    "                sig, sr = librosa.load(filepath)\n",
    "                zcr_feat[fil] = librosa.feature.zero_crossing_rate(sig)[0]\n",
    "                uttno += 1\n",
    "                if uttno%100 == 0:\n",
    "                    print uttno\n",
    "                \n",
    "with open('feat/zcr.pkl', 'wb') as f:\n",
    "    pickle.dump(zcr_feat, f)\n",
    "    \n",
    "from sklearn import svm\n",
    "from sklearn.model_selection import KFold\n",
    "from sklearn.metrics import accuracy_score\n",
    "\n",
    "kf = KFold(n_splits=5)\n",
    "acc = []\n",
    "for train_index, test_index in kf.split(X):\n",
    "    tr_x, te_x = X[train_index], X[test_index]\n",
    "    tr_y, te_y = y[train_index], y[test_index]\n",
    "    clf = svm.SVC()\n",
    "    clf.fit(tr_x, tr_y)\n",
    "    pred = clf.predict(te_x)\n",
    "    acc.append(accuracy_score(te_y, pred))\n",
    "\n",
    "print sum(acc)/float(len(acc))"
   ]
  },
  {
   "cell_type": "code",
   "execution_count": null,
   "metadata": {
    "collapsed": true
   },
   "outputs": [],
   "source": [
    "k2num = {'ang':1, 'exc':2, 'neu':3, 'sad':4}\n",
    "\n",
    "X_mean = np.empty((1,1), float)\n",
    "X_var = np.empty((1,1), float)\n",
    "y = []\n",
    "i = 0\n",
    "for k,v in zcr_feat.items():\n",
    "    #print v\n",
    "    if i % 1000 == 0:\n",
    "        print i\n",
    "    if cat_labels[k[:-4]] in k2num.keys():\n",
    "        A = np.mean(v)\n",
    "        X_mean = np.concatenate((X_mean, np.reshape(A, (-1,1))), axis=0)\n",
    "        A = np.var(v)\n",
    "        X_var = np.concatenate((X_var, np.reshape(A, (-1,1))), axis=0)\n",
    "        y.append(k2num[cat_labels[k[:-4]]])\n",
    "    i += 1\n",
    "\n",
    "print X_mean.shape\n",
    "y = np.array(y)"
   ]
  },
  {
   "cell_type": "code",
   "execution_count": null,
   "metadata": {
    "collapsed": true
   },
   "outputs": [],
   "source": [
    "# for extracting pitch statistics\n",
    "import subprocess\n",
    "import numpy as np\n",
    "\n",
    "pitch_feat = {}\n",
    "uttno = 0\n",
    "for sess in ['Session1', 'Session2', 'Session3', 'Session4', 'Session5']:\n",
    "    for subdir, dirs, files in os.walk('../../../../HBA/IEMOCAP_full_release/' + sess + '/sentences/wav/'):\n",
    "        for fil in files:\n",
    "            filepath = subdir + os.sep + fil\n",
    "            if filepath.endswith('.wav'):\n",
    "                subprocess.call(['/usr/bin/praat', '--run', 'extract_pitch.praat', filepath])\n",
    "                pitch = {}\n",
    "                with open('temp.pitch') as f:\n",
    "                    for i in f:\n",
    "                        val = i.split()\n",
    "                        if val[1] != '--undefined--' and val[0] != 'Pitch':\n",
    "                            pitch[float(val[0])] = float(val[1])\n",
    "                pitch_feat[fil] = [np.mean(np.array(pitch.values())), np.var(np.array(pitch.values()))]\n",
    "                uttno += 1\n",
    "                if uttno%1000 == 0:\n",
    "                    print uttno"
   ]
  }
 ],
 "metadata": {
  "kernelspec": {
   "display_name": "Python 2",
   "language": "python",
   "name": "python2"
  },
  "language_info": {
   "codemirror_mode": {
    "name": "ipython",
    "version": 2
   },
   "file_extension": ".py",
   "mimetype": "text/x-python",
   "name": "python",
   "nbconvert_exporter": "python",
   "pygments_lexer": "ipython2",
   "version": "2.7.14"
  }
 },
 "nbformat": 4,
 "nbformat_minor": 2
}
